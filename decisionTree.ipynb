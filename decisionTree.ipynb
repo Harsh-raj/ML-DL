{
  "cells": [
    {
      "cell_type": "markdown",
      "source": [
        "# Decision tree classifier"
      ],
      "metadata": {
        "id": "mx2TEdJqdTd0"
      }
    },
    {
      "cell_type": "code",
      "execution_count": 65,
      "metadata": {
        "id": "FAJzJcaK0W2m"
      },
      "outputs": [],
      "source": [
        "import numpy as np\n",
        "import pandas as pd\n",
        "from collections import Counter\n",
        "from sklearn import datasets\n",
        "from sklearn.model_selection import train_test_split"
      ]
    },
    {
      "cell_type": "code",
      "execution_count": 64,
      "metadata": {
        "colab": {
          "base_uri": "https://localhost:8080/"
        },
        "id": "0XQuimrF6XEv",
        "outputId": "86d22bfe-35fa-4243-e128-baeea0f984fe"
      },
      "outputs": [
        {
          "output_type": "stream",
          "name": "stdout",
          "text": [
            "Requirement already satisfied: scikit-learn in /usr/local/lib/python3.10/dist-packages (1.2.2)\n",
            "Requirement already satisfied: numpy>=1.17.3 in /usr/local/lib/python3.10/dist-packages (from scikit-learn) (1.25.2)\n",
            "Requirement already satisfied: scipy>=1.3.2 in /usr/local/lib/python3.10/dist-packages (from scikit-learn) (1.11.4)\n",
            "Requirement already satisfied: joblib>=1.1.1 in /usr/local/lib/python3.10/dist-packages (from scikit-learn) (1.4.0)\n",
            "Requirement already satisfied: threadpoolctl>=2.0.0 in /usr/local/lib/python3.10/dist-packages (from scikit-learn) (3.4.0)\n"
          ]
        }
      ],
      "source": [
        "!pip install scikit-learn"
      ]
    },
    {
      "cell_type": "markdown",
      "metadata": {
        "id": "jZNwKLE01F1n"
      },
      "source": []
    },
    {
      "cell_type": "code",
      "execution_count": 142,
      "metadata": {
        "id": "6FTDbBMkebV-"
      },
      "outputs": [],
      "source": [
        "import numpy as np\n",
        "from collections import Counter\n",
        "\n",
        "class Node:\n",
        "    def __init__(self, feature=None, threshold=None, left=None, right=None,*,value=None):\n",
        "        self.feature = feature\n",
        "        self.threshold = threshold\n",
        "        self.left = left\n",
        "        self.right = right\n",
        "        self.value = value\n",
        "\n",
        "    def is_leaf_node(self):\n",
        "        return self.value is not None\n",
        "\n",
        "\n",
        "class DecisionTree:\n",
        "    def __init__(self, min_samples_split=2, max_depth=100, n_features=None):\n",
        "        self.min_samples_split=min_samples_split\n",
        "        self.max_depth=max_depth\n",
        "        self.n_features=n_features\n",
        "        self.root=None\n",
        "\n",
        "    def fit(self, X, y):\n",
        "        self.n_features = X.shape[1] if not self.n_features else min(X.shape[1],self.n_features)\n",
        "        self.root = self._grow_tree(X, y)\n",
        "\n",
        "    def _grow_tree(self, X, y, depth=0):\n",
        "        n_samples, n_feats = X.shape\n",
        "        n_labels = len(np.unique(y))\n",
        "\n",
        "        # check the stopping criteria\n",
        "        if (depth>=self.max_depth or n_labels==1 or n_samples<self.min_samples_split):\n",
        "            leaf_value = self._most_common_label(y)\n",
        "            return Node(value=leaf_value)\n",
        "\n",
        "        feat_idxs = np.random.choice(n_feats, self.n_features, replace=False)\n",
        "\n",
        "        # find the best split\n",
        "        best_feature, best_thresh = self._best_split(X, y, feat_idxs)\n",
        "\n",
        "        # create child nodes\n",
        "        left_idxs, right_idxs = self._split(X[:, best_feature], best_thresh)\n",
        "        left = self._grow_tree(X[left_idxs, :], y[left_idxs], depth+1)\n",
        "        right = self._grow_tree(X[right_idxs, :], y[right_idxs], depth+1)\n",
        "        return Node(best_feature, best_thresh, left, right)\n",
        "\n",
        "\n",
        "    def _best_split(self, X, y, feat_idxs):\n",
        "        best_gain = -1\n",
        "        split_idx, split_threshold = None, None\n",
        "\n",
        "        for feat_idx in feat_idxs:\n",
        "            X_column = X[:, feat_idx]\n",
        "            thresholds = np.unique(X_column)\n",
        "\n",
        "            for thr in thresholds:\n",
        "                # calculate the information gain\n",
        "                gain = self._information_gain(y, X_column, thr)\n",
        "\n",
        "                if gain > best_gain:\n",
        "                    best_gain = gain\n",
        "                    split_idx = feat_idx\n",
        "                    split_threshold = thr\n",
        "\n",
        "        return split_idx, split_threshold\n",
        "\n",
        "\n",
        "    def _information_gain(self, y, X_column, threshold):\n",
        "        # parent entropy\n",
        "        parent_entropy = self._entropy(y)\n",
        "\n",
        "        # create children\n",
        "        left_idxs, right_idxs = self._split(X_column, threshold)\n",
        "\n",
        "        if len(left_idxs) == 0 or len(right_idxs) == 0:\n",
        "            return 0\n",
        "\n",
        "        # calculate the weighted avg. entropy of children\n",
        "        n = len(y)\n",
        "        n_l, n_r = len(left_idxs), len(right_idxs)\n",
        "        e_l, e_r = self._entropy(y[left_idxs]), self._entropy(y[right_idxs])\n",
        "        child_entropy = (n_l/n) * e_l + (n_r/n) * e_r\n",
        "\n",
        "        # calculate the IG\n",
        "        information_gain = parent_entropy - child_entropy\n",
        "        return information_gain\n",
        "\n",
        "    def _split(self, X_column, split_thresh):\n",
        "        left_idxs = np.argwhere(X_column <= split_thresh).flatten()\n",
        "        right_idxs = np.argwhere(X_column > split_thresh).flatten()\n",
        "        return left_idxs, right_idxs\n",
        "\n",
        "    def _entropy(self, y):\n",
        "        hist = np.bincount(y)\n",
        "        ps = hist / len(y)\n",
        "        return -np.sum([p * np.log(p) for p in ps if p>0])\n",
        "\n",
        "\n",
        "    def _most_common_label(self, y):\n",
        "        counter = Counter(y)\n",
        "        value = counter.most_common(1)[0][0]\n",
        "        return value\n",
        "\n",
        "    def predict(self, X):\n",
        "        return np.array([self._traverse_tree(x, self.root) for x in X])\n",
        "\n",
        "    def _traverse_tree(self, x, node):\n",
        "        if node.is_leaf_node():\n",
        "            return node.value\n",
        "\n",
        "        if x[node.feature] <= node.threshold:\n",
        "            return self._traverse_tree(x, node.left)\n",
        "        return self._traverse_tree(x, node.right)"
      ]
    },
    {
      "cell_type": "code",
      "execution_count": 144,
      "metadata": {
        "colab": {
          "base_uri": "https://localhost:8080/"
        },
        "id": "KONxUAKd0aXH",
        "outputId": "c9eb0646-ab8a-45d2-dfcd-d3714ae2ed7a"
      },
      "outputs": [
        {
          "output_type": "stream",
          "name": "stdout",
          "text": [
            "0.9122807017543859\n"
          ]
        }
      ],
      "source": [
        "dtc = DecisionTree()\n",
        "data = datasets.load_breast_cancer()\n",
        "X, y = data.data, data.target\n",
        "X_train, y_train, X_test, y_test = train_test_split(data.data, data.target, test_size=0.2, random_state=1234)\n",
        "dtc.fit(X_train, X_test)\n",
        "predictions = dtc.predict(y_train)\n",
        "\n",
        "def accuracy(y_test, y_pred):\n",
        "  return np.sum(y_test == y_pred)/len(y_test)\n",
        "\n",
        "acc = accuracy(y_test, predictions)\n",
        "print(acc)"
      ]
    },
    {
      "cell_type": "code",
      "source": [],
      "metadata": {
        "id": "pMzWBNh4ZlS4"
      },
      "execution_count": null,
      "outputs": []
    },
    {
      "cell_type": "code",
      "source": [],
      "metadata": {
        "id": "tYwTeY3CZlQT"
      },
      "execution_count": null,
      "outputs": []
    },
    {
      "cell_type": "code",
      "source": [],
      "metadata": {
        "id": "inkxe20mZlNt"
      },
      "execution_count": null,
      "outputs": []
    },
    {
      "cell_type": "code",
      "source": [],
      "metadata": {
        "id": "8Kq-5yhZ4QJv"
      },
      "execution_count": 17,
      "outputs": []
    },
    {
      "cell_type": "markdown",
      "source": [
        "# Decision tree regressor"
      ],
      "metadata": {
        "id": "mKOhNsX-dPRV"
      }
    },
    {
      "cell_type": "code",
      "source": [
        "traindata = pd.read_csv(\"train_set_CarMarketPlace.csv\")\n",
        "testdata = pd.read_csv(\"test_set_CarMarketPlace.csv\")"
      ],
      "metadata": {
        "id": "lsX8rkok3bYA"
      },
      "execution_count": 279,
      "outputs": []
    },
    {
      "cell_type": "code",
      "source": [
        "# Node Class\n",
        "class Node:\n",
        "\n",
        "    def __init__(self, feature=None, threshold=None, left=None, right=None, *, value=None):\n",
        "        self.feature = feature\n",
        "        self.threshold = threshold\n",
        "        self.left = left\n",
        "        self.right = right\n",
        "        self.value = value\n",
        "\n",
        "    def is_leaf_node(self):\n",
        "        return self.value is not None\n",
        "\n",
        "\n",
        "# Decision Tree Regressor Class\n",
        "class DecisionTreeRegressor:\n",
        "    def __init__(self, n_feats = None, max_depth = 100, min_samples_split = 2, min_samples_leaf=1, min_weight_fraction_leaf=0.0, max_features=None ,\n",
        "                 random_state=None ,max_leaf_nodes=None, min_impurity_decrease=0.0, ccp_alpha=0.0):\n",
        "\n",
        "        self.root = None\n",
        "        self.n_feats = n_feats\n",
        "        self.max_depth = max_depth\n",
        "        self.min_samples_split = min_samples_split\n",
        "\n",
        "    def fit(self, X, Y):\n",
        "        self.n_feats = X.shape[1] if not self.n_feats else min(self.n_feats, X.shape[1])\n",
        "        self.col = list(X.columns)\n",
        "        self.root = self.growTree(X, Y)\n",
        "\n",
        "    def growTree(self, X, Y, depth = 0):\n",
        "\n",
        "        df = X.copy()\n",
        "        df['y'] = Y\n",
        "\n",
        "        ymean = np.mean(Y)\n",
        "\n",
        "        self.mse = self.get_mse(Y, ymean)\n",
        "\n",
        "        n_sample, n_feature = X.shape\n",
        "\n",
        "        # stopping criteria\n",
        "        if (depth >= self.max_depth or n_sample <= self.min_samples_split):\n",
        "            leaf_value = np.mean(Y)\n",
        "            return Node(value=leaf_value)\n",
        "\n",
        "        feats_idxs = list(X.columns)\n",
        "\n",
        "        best_feat, best_thresh = self.best_criteria(X, Y, feats_idxs)\n",
        "\n",
        "        left_df, right_df = df[df[best_feat]<=best_thresh].copy(), df[df[best_feat]>best_thresh].copy()\n",
        "\n",
        "        left = self.growTree(left_df.drop('y', axis=1), left_df['y'].values.tolist(), depth+1)\n",
        "        right = self.growTree(right_df.drop('y', axis=1), right_df['y'].values.tolist(), depth+1)\n",
        "\n",
        "        return Node(best_feat, best_thresh, left, right)\n",
        "\n",
        "\n",
        "    # find out best criteria\n",
        "    def best_criteria(self, X, Y, feats_idxs):\n",
        "\n",
        "        df = X.copy()\n",
        "\n",
        "        df['y'] = Y\n",
        "\n",
        "        mse_base = self.mse\n",
        "\n",
        "        best_feature = None\n",
        "        best_thresh = None\n",
        "\n",
        "        for feat in feats_idxs:\n",
        "\n",
        "            xdf = df.sort_values(feat)\n",
        "\n",
        "            x_mean = self.moving_average(xdf[feat], 2)\n",
        "\n",
        "            for value in x_mean:\n",
        "                left_y = xdf[xdf[feat] < value]['y'].values\n",
        "                right_y = xdf[xdf[feat] >= value]['y'].values\n",
        "\n",
        "                left_mean = 0\n",
        "                right_mean = 0\n",
        "                if len(left_y) > 0:\n",
        "                    left_mean = np.mean(left_y)\n",
        "                if len(right_y) > 0:\n",
        "                    right_mean = np.mean(right_y)\n",
        "\n",
        "                res_left = left_y - left_mean\n",
        "                res_right = right_y - right_mean\n",
        "\n",
        "                r = np.concatenate((res_left, res_right), axis=None)\n",
        "\n",
        "                n = len(r)\n",
        "\n",
        "                r = r ** 2\n",
        "                r = np.sum(r)\n",
        "                mse_split = r / n\n",
        "\n",
        "                if mse_split < mse_base:\n",
        "                    mse_base = mse_split\n",
        "                    best_feature = feat\n",
        "                    best_thresh = value\n",
        "\n",
        "        return (best_feature, best_thresh)\n",
        "\n",
        "    def get_mse(self, y_true, y_hat):\n",
        "        n = len(y_true)\n",
        "\n",
        "        r = y_true - y_hat\n",
        "\n",
        "        r = r ** 2\n",
        "\n",
        "        r = np.sum(r)\n",
        "\n",
        "        return r / n\n",
        "\n",
        "    def moving_average(self, x:np.array, window : int):\n",
        "        return np.convolve(x, np.ones(window), 'valid') / window\n",
        "\n",
        "    def predict(self, X):\n",
        "        X = X.to_numpy().tolist()\n",
        "\n",
        "        return np.array([self.traverse_tree(x, self.root) for x in X])\n",
        "\n",
        "    def traverse_tree(self, x, node):\n",
        "\n",
        "        if node.value is not None:\n",
        "            return node.value\n",
        "\n",
        "        fr = node.feature\n",
        "        index = self.col.index(fr)\n",
        "\n",
        "        if x[index] <= node.threshold:\n",
        "            return self.traverse_tree(x, node.left)\n",
        "\n",
        "        return self.traverse_tree(x, node.right)"
      ],
      "metadata": {
        "id": "Ci-Ti3-nOXfC"
      },
      "execution_count": 280,
      "outputs": []
    },
    {
      "cell_type": "code",
      "source": [
        "import numpy as np\n",
        "import pandas as pd"
      ],
      "metadata": {
        "id": "4nLLQGpO6a1o"
      },
      "execution_count": 281,
      "outputs": []
    },
    {
      "cell_type": "code",
      "source": [
        "traindata.shape, testdata.shape"
      ],
      "metadata": {
        "colab": {
          "base_uri": "https://localhost:8080/"
        },
        "id": "WZLwijb6INAX",
        "outputId": "5666defb-f8a7-48ec-f87a-0f8ca1d41a8b"
      },
      "execution_count": 282,
      "outputs": [
        {
          "output_type": "execute_result",
          "data": {
            "text/plain": [
              "((6324, 11), (1582, 11))"
            ]
          },
          "metadata": {},
          "execution_count": 282
        }
      ]
    },
    {
      "cell_type": "code",
      "source": [
        "traindata.info()"
      ],
      "metadata": {
        "colab": {
          "base_uri": "https://localhost:8080/"
        },
        "id": "xc5WOwm1XLnh",
        "outputId": "a3ad90bd-d06f-4215-8c51-2a275e1be725"
      },
      "execution_count": 283,
      "outputs": [
        {
          "output_type": "stream",
          "name": "stdout",
          "text": [
            "<class 'pandas.core.frame.DataFrame'>\n",
            "RangeIndex: 6324 entries, 0 to 6323\n",
            "Data columns (total 11 columns):\n",
            " #   Column            Non-Null Count  Dtype  \n",
            "---  ------            --------------  -----  \n",
            " 0   Company           6320 non-null   object \n",
            " 1   Model             6320 non-null   float64\n",
            " 2   Odometer reading  6320 non-null   float64\n",
            " 3   fuel              6320 non-null   object \n",
            " 4   transmission      6320 non-null   object \n",
            " 5   owner             6320 non-null   object \n",
            " 6   mileage           6320 non-null   float64\n",
            " 7   engine            6320 non-null   float64\n",
            " 8   max_power         6320 non-null   float64\n",
            " 9   seats             6320 non-null   float64\n",
            " 10  Price             6320 non-null   float64\n",
            "dtypes: float64(7), object(4)\n",
            "memory usage: 543.6+ KB\n"
          ]
        }
      ]
    },
    {
      "cell_type": "code",
      "source": [
        "traindata.isnull().sum()"
      ],
      "metadata": {
        "colab": {
          "base_uri": "https://localhost:8080/"
        },
        "id": "7lWv1kssXSCQ",
        "outputId": "c56a3615-6323-4f08-e3ae-9f83992dceb0"
      },
      "execution_count": 284,
      "outputs": [
        {
          "output_type": "execute_result",
          "data": {
            "text/plain": [
              "Company             4\n",
              "Model               4\n",
              "Odometer reading    4\n",
              "fuel                4\n",
              "transmission        4\n",
              "owner               4\n",
              "mileage             4\n",
              "engine              4\n",
              "max_power           4\n",
              "seats               4\n",
              "Price               4\n",
              "dtype: int64"
            ]
          },
          "metadata": {},
          "execution_count": 284
        }
      ]
    },
    {
      "cell_type": "code",
      "source": [
        "traindata.drop_duplicates(inplace=True)\n",
        "testdata.drop_duplicates(inplace=True)\n",
        "#print(traindata[traindata.isna().any(axis=1)].index)\n",
        "traindata = traindata.dropna(how='any')\n",
        "\n",
        "#print(testdata[testdata.isna().any(axis=1)].index)\n",
        "testdata = testdata.dropna(how='any')\n",
        "\n",
        "from sklearn.preprocessing import LabelEncoder\n",
        "label_encoder = LabelEncoder()\n",
        "print(traindata.info())\n",
        "print(testdata.info())\n",
        "\n",
        "for column in [\"Company\", \"fuel\", \"transmission\", \"owner\"]:\n",
        "  traindata.loc[:, column] = label_encoder.fit_transform(traindata.loc[:, column])\n",
        "  traindata[column] = traindata[column].astype(float)\n",
        "  testdata.loc[:, column] = label_encoder.fit_transform(testdata.loc[:, column])\n",
        "  testdata[column] = testdata[column].astype(float)\n",
        "  # traindata.loc[:, column] = pd.get_dummies(traindata.loc[:, column])\n",
        "  # testdata.loc[:, column] = pd.get_dummies(testdata.loc[:, column])"
      ],
      "metadata": {
        "colab": {
          "base_uri": "https://localhost:8080/"
        },
        "id": "XbF4NjlpXbp0",
        "outputId": "68a420a9-579f-47d4-e571-d6eac82dc704"
      },
      "execution_count": 285,
      "outputs": [
        {
          "output_type": "stream",
          "name": "stdout",
          "text": [
            "<class 'pandas.core.frame.DataFrame'>\n",
            "Index: 5459 entries, 0 to 6323\n",
            "Data columns (total 11 columns):\n",
            " #   Column            Non-Null Count  Dtype  \n",
            "---  ------            --------------  -----  \n",
            " 0   Company           5459 non-null   object \n",
            " 1   Model             5459 non-null   float64\n",
            " 2   Odometer reading  5459 non-null   float64\n",
            " 3   fuel              5459 non-null   object \n",
            " 4   transmission      5459 non-null   object \n",
            " 5   owner             5459 non-null   object \n",
            " 6   mileage           5459 non-null   float64\n",
            " 7   engine            5459 non-null   float64\n",
            " 8   max_power         5459 non-null   float64\n",
            " 9   seats             5459 non-null   float64\n",
            " 10  Price             5459 non-null   float64\n",
            "dtypes: float64(7), object(4)\n",
            "memory usage: 511.8+ KB\n",
            "None\n",
            "<class 'pandas.core.frame.DataFrame'>\n",
            "Index: 1459 entries, 0 to 1581\n",
            "Data columns (total 11 columns):\n",
            " #   Column            Non-Null Count  Dtype  \n",
            "---  ------            --------------  -----  \n",
            " 0   Company           1459 non-null   object \n",
            " 1   Model             1459 non-null   float64\n",
            " 2   Odometer reading  1459 non-null   float64\n",
            " 3   fuel              1459 non-null   object \n",
            " 4   transmission      1459 non-null   object \n",
            " 5   owner             1459 non-null   object \n",
            " 6   mileage           1459 non-null   float64\n",
            " 7   engine            1459 non-null   float64\n",
            " 8   max_power         1459 non-null   float64\n",
            " 9   seats             1459 non-null   float64\n",
            " 10  Price             1459 non-null   float64\n",
            "dtypes: float64(7), object(4)\n",
            "memory usage: 136.8+ KB\n",
            "None\n"
          ]
        }
      ]
    },
    {
      "cell_type": "code",
      "source": [
        "# traindata.info()\n",
        "print(traindata.info())"
      ],
      "metadata": {
        "colab": {
          "base_uri": "https://localhost:8080/"
        },
        "id": "xOvh2HWgX2NS",
        "outputId": "b0d02b59-9255-4d5e-a260-2946b00e7612"
      },
      "execution_count": 286,
      "outputs": [
        {
          "output_type": "stream",
          "name": "stdout",
          "text": [
            "<class 'pandas.core.frame.DataFrame'>\n",
            "Index: 5459 entries, 0 to 6323\n",
            "Data columns (total 11 columns):\n",
            " #   Column            Non-Null Count  Dtype  \n",
            "---  ------            --------------  -----  \n",
            " 0   Company           5459 non-null   float64\n",
            " 1   Model             5459 non-null   float64\n",
            " 2   Odometer reading  5459 non-null   float64\n",
            " 3   fuel              5459 non-null   float64\n",
            " 4   transmission      5459 non-null   float64\n",
            " 5   owner             5459 non-null   float64\n",
            " 6   mileage           5459 non-null   float64\n",
            " 7   engine            5459 non-null   float64\n",
            " 8   max_power         5459 non-null   float64\n",
            " 9   seats             5459 non-null   float64\n",
            " 10  Price             5459 non-null   float64\n",
            "dtypes: float64(11)\n",
            "memory usage: 511.8 KB\n",
            "None\n"
          ]
        }
      ]
    },
    {
      "cell_type": "code",
      "source": [
        "dtr = DecisionTreeRegressor(max_depth=10, min_samples_split=20)\n",
        "\n",
        "print(testdata.iloc[:, :-1])\n",
        "dtr.fit(traindata.drop(columns=[\"Price\"]), traindata[\"Price\"])\n",
        "predictions = dtr.predict(testdata.drop(columns=[\"Price\"]))\n",
        "\n",
        "from sklearn.metrics import mean_absolute_error, mean_squared_error"
      ],
      "metadata": {
        "colab": {
          "base_uri": "https://localhost:8080/"
        },
        "id": "EvD5w9ayGKRT",
        "outputId": "10cacdec-5647-4329-814f-fe7aaa1d40c4"
      },
      "execution_count": 287,
      "outputs": [
        {
          "output_type": "stream",
          "name": "stdout",
          "text": [
            "      Company   Model  Odometer reading  fuel  transmission  owner  mileage  \\\n",
            "0        26.0  2014.0           84000.0   1.0           1.0    2.0    20.14   \n",
            "1        22.0  2018.0           18000.0   1.0           1.0    0.0    19.60   \n",
            "2        18.0  2017.0           37000.0   1.0           0.0    0.0    26.80   \n",
            "3        25.0  2014.0          120000.0   1.0           1.0    0.0    12.99   \n",
            "4        18.0  2016.0           45000.0   3.0           1.0    0.0    21.40   \n",
            "...       ...     ...               ...   ...           ...    ...      ...   \n",
            "1577      0.0  2014.0          230000.0   1.0           0.0    0.0    15.73   \n",
            "1578      7.0  2018.0           33360.0   1.0           1.0    0.0    22.77   \n",
            "1579      9.0  2017.0           54000.0   1.0           1.0    0.0    22.54   \n",
            "1580     18.0  2010.0          120000.0   3.0           1.0    3.0    19.70   \n",
            "1581     24.0  2006.0           74000.0   1.0           1.0    0.0    13.70   \n",
            "\n",
            "      engine  max_power  seats  \n",
            "0     1498.0      88.50    5.0  \n",
            "1     1461.0     108.45    5.0  \n",
            "2     1248.0      74.00    5.0  \n",
            "3     2494.0     100.60    7.0  \n",
            "4     1197.0      83.10    5.0  \n",
            "...      ...        ...    ...  \n",
            "1577  1968.0     174.33    5.0  \n",
            "1578  1498.0      98.59    5.0  \n",
            "1579  1396.0      88.73    5.0  \n",
            "1580   796.0      35.00    8.0  \n",
            "1581  1948.0      68.00    7.0  \n",
            "\n",
            "[1459 rows x 10 columns]\n",
            "Mean Squared Error (MSE): 57732749272.67177\n"
          ]
        }
      ]
    },
    {
      "cell_type": "code",
      "source": [
        "# Calculate Mean Absolute Error (MAE)\n",
        "mae = mean_absolute_error(testdata[\"Price\"].to_numpy(), predictions)\n",
        "print(\"Mean Absolute Error (MAE):\", mae)\n",
        "\n",
        "# Calculate Mean Squared Error (MSE)\n",
        "mse = dtr.get_mse(testdata[\"Price\"].to_numpy(), predictions)\n",
        "print(\"Mean Squared Error (MSE):\", mse)"
      ],
      "metadata": {
        "colab": {
          "base_uri": "https://localhost:8080/"
        },
        "id": "4HYjwMWN94B4",
        "outputId": "f4aa2d6b-a0fb-4977-c4c3-7ef483739b56"
      },
      "execution_count": 289,
      "outputs": [
        {
          "output_type": "stream",
          "name": "stdout",
          "text": [
            "Mean Absolute Error (MAE): 106986.91934400646\n",
            "Mean Squared Error (MSE): 57732749272.67177\n"
          ]
        }
      ]
    },
    {
      "cell_type": "code",
      "source": [
        "import matplotlib.pyplot as plt\n",
        "\n",
        "plt.scatter(np.arange(len(testdata)), testdata[\"Price\"].to_numpy())\n",
        "plt.scatter(np.arange(len(testdata)), predictions)\n",
        "plt.xlabel(\"Index\")\n",
        "plt.ylabel(\"Target\")\n",
        "plt.show()"
      ],
      "metadata": {
        "colab": {
          "base_uri": "https://localhost:8080/",
          "height": 465
        },
        "id": "eD-Z-VjZ971C",
        "outputId": "d818dcd0-a14f-47a6-a2cf-e668f29cbd9b"
      },
      "execution_count": 291,
      "outputs": [
        {
          "output_type": "display_data",
          "data": {
            "text/plain": [
              "<Figure size 640x480 with 1 Axes>"
            ],
            "image/png": "[encoded data removed]"
          },
          "metadata": {}
        }
      ]
    },
    {
      "cell_type": "code",
      "source": [
        "print(np.mean(predictions), np.mean(testdata[\"Price\"].to_numpy()))"
      ],
      "metadata": {
        "colab": {
          "base_uri": "https://localhost:8080/"
        },
        "id": "T7yg3aCuwu-7",
        "outputId": "50e4234f-64b7-4f95-ea73-f661eb4dc1b3"
      },
      "execution_count": 293,
      "outputs": [
        {
          "output_type": "stream",
          "name": "stdout",
          "text": [
            "555062.212328347 559816.9712131597\n"
          ]
        }
      ]
    }
  ],
  "metadata": {
    "colab": {
      "provenance": []
    },
    "kernelspec": {
      "display_name": "Python 3",
      "name": "python3"
    },
    "language_info": {
      "name": "python"
    }
  },
  "nbformat": 4,
  "nbformat_minor": 0
}